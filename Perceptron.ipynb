{
 "cells": [
  {
   "cell_type": "code",
   "execution_count": 3,
   "metadata": {},
   "outputs": [],
   "source": [
    "import numpy as np "
   ]
  },
  {
   "cell_type": "code",
   "execution_count": 4,
   "metadata": {},
   "outputs": [],
   "source": [
    "def AND(x1, x2):\n",
    "    x = np.array([x1, x2])\n",
    "\n",
    "    w = np.array([0.5, 0.5])\n",
    "\n",
    "    b = -0.7\n",
    "\n",
    "    tmp = np.sum(w*x) + b\n",
    "\n",
    "    if tmp <= 0:\n",
    "        return 0\n",
    "\n",
    "    else:\n",
    "        return 1"
   ]
  },
  {
   "cell_type": "code",
   "execution_count": 5,
   "metadata": {},
   "outputs": [],
   "source": [
    "def NAND(x1, x2):\n",
    "    x = np.array([x1, x2])\n",
    "\n",
    "    w = np.array([-0.5, -0.5])\n",
    "\n",
    "    b = 0.7\n",
    "\n",
    "    tmp = np.sum(w*x) + b\n",
    "\n",
    "    if tmp <= 0:\n",
    "        return 0\n",
    "\n",
    "    else:\n",
    "        return 1"
   ]
  },
  {
   "cell_type": "code",
   "execution_count": 6,
   "metadata": {},
   "outputs": [],
   "source": [
    "def OR(x1, x2):\n",
    "    x = np.array([x1, x2])\n",
    "\n",
    "    w = np.array([0.5, 0.5])\n",
    "\n",
    "    b = -0.2\n",
    "\n",
    "    tmp = np.sum(w*x) + b\n",
    "\n",
    "    if tmp <= 0:\n",
    "        return 0\n",
    "\n",
    "    else:\n",
    "        return 1"
   ]
  },
  {
   "cell_type": "code",
   "execution_count": 7,
   "metadata": {},
   "outputs": [],
   "source": [
    "def XOR(x1, x2):\n",
    "    \n",
    "    s1 = NAND(x1, x2)\n",
    "\n",
    "    s2 = OR(x1, x2)\n",
    "\n",
    "    y = AND(s1, s2)\n",
    "\n",
    "    return y"
   ]
  },
  {
   "cell_type": "code",
   "execution_count": 8,
   "metadata": {},
   "outputs": [
    {
     "name": "stdout",
     "output_type": "stream",
     "text": [
      "AND\n",
      "(0, 0) : 0\n",
      "(1, 0) : 0\n",
      "(0, 1) : 0\n",
      "(1, 1) : 1\n",
      "\n",
      "\n",
      "NAND\n",
      "(0, 0) : 1\n",
      "(1, 0) : 1\n",
      "(0, 1) : 1\n",
      "(1, 1) : 0\n",
      "\n",
      "\n",
      "OR\n",
      "(0, 0) : 0\n",
      "(1, 0) : 1\n",
      "(0, 1) : 1\n",
      "(1, 1) : 1\n",
      "\n",
      "\n",
      "XOR\n",
      "(0, 0) : 0\n",
      "(1, 0) : 1\n",
      "(0, 1) : 1\n",
      "(1, 1) : 0\n",
      "\n",
      "\n"
     ]
    }
   ],
   "source": [
    "print('AND')\n",
    "\n",
    "for xs in [(0, 0), (1, 0), (0, 1), (1, 1)]:\n",
    "    and_y = AND(xs[0], xs[1])\n",
    "    print(xs , ':', and_y)\n",
    "\n",
    "print('\\n')\n",
    "\n",
    "print('NAND')\n",
    "\n",
    "for xs in [(0, 0), (1, 0), (0, 1), (1, 1)]:\n",
    "    nand_y = NAND(xs[0], xs[1])\n",
    "    print(xs , ':', nand_y)\n",
    "\n",
    "print('\\n')\n",
    "\n",
    "print('OR')\n",
    "\n",
    "for xs in [(0, 0), (1, 0), (0, 1), (1, 1)]:\n",
    "    or_y = OR(xs[0], xs[1])\n",
    "    print(xs , ':', or_y)\n",
    "\n",
    "print('\\n')\n",
    "\n",
    "print('XOR')\n",
    "\n",
    "for xs in [(0, 0), (1, 0), (0, 1), (1, 1)]:\n",
    "    xor_y = XOR(xs[0], xs[1])\n",
    "    print(xs , ':', xor_y)\n",
    "\n",
    "print('\\n')"
   ]
  }
 ],
 "metadata": {
  "kernelspec": {
   "display_name": "Python 3",
   "language": "python",
   "name": "python3"
  },
  "language_info": {
   "codemirror_mode": {
    "name": "ipython",
    "version": 3
   },
   "file_extension": ".py",
   "mimetype": "text/x-python",
   "name": "python",
   "nbconvert_exporter": "python",
   "pygments_lexer": "ipython3",
   "version": "3.5.6"
  }
 },
 "nbformat": 4,
 "nbformat_minor": 2
}
